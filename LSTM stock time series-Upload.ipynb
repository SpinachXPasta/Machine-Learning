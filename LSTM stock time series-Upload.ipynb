{
 "cells": [
  {
   "cell_type": "markdown",
   "metadata": {},
   "source": [
    "# 7-DAY-LSTM\n",
    "### By Siddhartha Pachhai"
   ]
  },
  {
   "cell_type": "code",
   "execution_count": 1,
   "metadata": {
    "_cell_guid": "b1076dfc-b9ad-4769-8c92-a6c4dae69d19",
    "_uuid": "8f2839f25d086af736a60e9eeb907d3b93b6e0e5"
   },
   "outputs": [],
   "source": [
    "import numpy as np # linear algebra\n",
    "import pandas as pd # data processing, CSV file I/O (e.g. pd.read_csv)\n",
    "import os"
   ]
  },
  {
   "cell_type": "code",
   "execution_count": 2,
   "metadata": {},
   "outputs": [],
   "source": [
    "import requests\n",
    "import json\n",
    "from pandas.io.json import json_normalize\n",
    "import io\n",
    "os.environ['KMP_DUPLICATE_LIB_OK']='True' # This is for MacOS"
   ]
  },
  {
   "cell_type": "markdown",
   "metadata": {},
   "source": [
    "## Select Ticker"
   ]
  },
  {
   "cell_type": "code",
   "execution_count": 3,
   "metadata": {},
   "outputs": [],
   "source": [
    "API = \"Your API Key\"\n",
    "stock_id = \"AMZN\""
   ]
  },
  {
   "cell_type": "code",
   "execution_count": 4,
   "metadata": {},
   "outputs": [],
   "source": [
    "url = \"https://www.alphavantage.co/query?function=TIME_SERIES_DAILY&symbol=\"+str(stock_id)+\"&apikey=\"+str(API)+\"&datatype=csv&outputsize=full\""
   ]
  },
  {
   "cell_type": "code",
   "execution_count": 5,
   "metadata": {
    "_cell_guid": "79c7e3d0-c299-4dcb-8224-4455121ee9b0",
    "_uuid": "d629ff2d2480ee46fbb7e2d37f6b5fab8052498a"
   },
   "outputs": [
    {
     "name": "stderr",
     "output_type": "stream",
     "text": [
      "Using TensorFlow backend.\n"
     ]
    }
   ],
   "source": [
    "import numpy as np\n",
    "import pandas as pd\n",
    "import math\n",
    "import sklearn\n",
    "import sklearn.preprocessing\n",
    "import datetime\n",
    "import os\n",
    "import matplotlib.pyplot as plt\n",
    "from keras.models import Sequential\n",
    "from keras.layers import LSTM,Dense\n",
    "from sklearn.preprocessing import MinMaxScaler\n",
    "from statsmodels.graphics.tsaplots import plot_pacf, plot_acf"
   ]
  },
  {
   "cell_type": "code",
   "execution_count": 6,
   "metadata": {},
   "outputs": [],
   "source": [
    "D = requests.get(url).content"
   ]
  },
  {
   "cell_type": "code",
   "execution_count": 7,
   "metadata": {},
   "outputs": [],
   "source": [
    "rawData = pd.read_csv(io.StringIO(D.decode('utf-8')))"
   ]
  },
  {
   "cell_type": "code",
   "execution_count": 8,
   "metadata": {},
   "outputs": [
    {
     "data": {
      "text/plain": [
       "5031"
      ]
     },
     "execution_count": 8,
     "metadata": {},
     "output_type": "execute_result"
    }
   ],
   "source": [
    "len(rawData)"
   ]
  },
  {
   "cell_type": "code",
   "execution_count": 9,
   "metadata": {},
   "outputs": [
    {
     "data": {
      "text/html": [
       "<div>\n",
       "<style scoped>\n",
       "    .dataframe tbody tr th:only-of-type {\n",
       "        vertical-align: middle;\n",
       "    }\n",
       "\n",
       "    .dataframe tbody tr th {\n",
       "        vertical-align: top;\n",
       "    }\n",
       "\n",
       "    .dataframe thead th {\n",
       "        text-align: right;\n",
       "    }\n",
       "</style>\n",
       "<table border=\"1\" class=\"dataframe\">\n",
       "  <thead>\n",
       "    <tr style=\"text-align: right;\">\n",
       "      <th></th>\n",
       "      <th>timestamp</th>\n",
       "      <th>open</th>\n",
       "      <th>high</th>\n",
       "      <th>low</th>\n",
       "      <th>close</th>\n",
       "      <th>volume</th>\n",
       "    </tr>\n",
       "  </thead>\n",
       "  <tbody>\n",
       "    <tr>\n",
       "      <th>0</th>\n",
       "      <td>2019-09-17</td>\n",
       "      <td>1807.08</td>\n",
       "      <td>1823.99</td>\n",
       "      <td>1804.2736</td>\n",
       "      <td>1822.55</td>\n",
       "      <td>1811633</td>\n",
       "    </tr>\n",
       "  </tbody>\n",
       "</table>\n",
       "</div>"
      ],
      "text/plain": [
       "    timestamp     open     high        low    close   volume\n",
       "0  2019-09-17  1807.08  1823.99  1804.2736  1822.55  1811633"
      ]
     },
     "execution_count": 9,
     "metadata": {},
     "output_type": "execute_result"
    }
   ],
   "source": [
    "rawData.head(1)"
   ]
  },
  {
   "cell_type": "code",
   "execution_count": 10,
   "metadata": {},
   "outputs": [
    {
     "data": {
      "text/html": [
       "<div>\n",
       "<style scoped>\n",
       "    .dataframe tbody tr th:only-of-type {\n",
       "        vertical-align: middle;\n",
       "    }\n",
       "\n",
       "    .dataframe tbody tr th {\n",
       "        vertical-align: top;\n",
       "    }\n",
       "\n",
       "    .dataframe thead th {\n",
       "        text-align: right;\n",
       "    }\n",
       "</style>\n",
       "<table border=\"1\" class=\"dataframe\">\n",
       "  <thead>\n",
       "    <tr style=\"text-align: right;\">\n",
       "      <th></th>\n",
       "      <th>timestamp</th>\n",
       "      <th>open</th>\n",
       "      <th>high</th>\n",
       "      <th>low</th>\n",
       "      <th>close</th>\n",
       "      <th>volume</th>\n",
       "    </tr>\n",
       "  </thead>\n",
       "  <tbody>\n",
       "    <tr>\n",
       "      <th>0</th>\n",
       "      <td>1999-09-20</td>\n",
       "      <td>63.688</td>\n",
       "      <td>65.0</td>\n",
       "      <td>62.688</td>\n",
       "      <td>62.75</td>\n",
       "      <td>5957100</td>\n",
       "    </tr>\n",
       "  </tbody>\n",
       "</table>\n",
       "</div>"
      ],
      "text/plain": [
       "    timestamp    open  high     low  close   volume\n",
       "0  1999-09-20  63.688  65.0  62.688  62.75  5957100"
      ]
     },
     "execution_count": 10,
     "metadata": {},
     "output_type": "execute_result"
    }
   ],
   "source": [
    "rawData = rawData.iloc[::-1]\n",
    "rawData = rawData.reset_index(drop = True)\n",
    "rawData.head(1)"
   ]
  },
  {
   "cell_type": "code",
   "execution_count": 11,
   "metadata": {
    "_uuid": "d6ca3e09988b7bcbab13a195d73a819ade987c4f"
   },
   "outputs": [],
   "source": [
    "# function for min-max normalization of stock, \n",
    "def normalize_data(df):\n",
    "    min_max_scaler = sklearn.preprocessing.MinMaxScaler()\n",
    "    df['open'] = min_max_scaler.fit_transform(df.open.values.reshape(-1,1))\n",
    "    df['high'] = min_max_scaler.fit_transform(df.high.values.reshape(-1,1))\n",
    "    df['low'] = min_max_scaler.fit_transform(df.low.values.reshape(-1,1))\n",
    "    df['close'] = min_max_scaler.fit_transform(df['close'].values.reshape(-1,1))\n",
    "    return df"
   ]
  },
  {
   "cell_type": "code",
   "execution_count": 12,
   "metadata": {
    "_uuid": "7c54a28b9bd89580ed64644fcd8c8e69646095ea",
    "scrolled": true
   },
   "outputs": [],
   "source": [
    "# function for min-max normalization of stock\n",
    "min_max_scaler = sklearn.preprocessing.MinMaxScaler()\n",
    "def normalize_data(df):\n",
    "    df['open'] = min_max_scaler.fit_transform(df.open.values.reshape(-1,1))\n",
    "    df['high'] = min_max_scaler.fit_transform(df.high.values.reshape(-1,1))\n",
    "    df['low'] = min_max_scaler.fit_transform(df.low.values.reshape(-1,1))\n",
    "    df['close'] = min_max_scaler.fit_transform(df['close'].values.reshape(-1,1))\n",
    "    return df"
   ]
  },
  {
   "cell_type": "code",
   "execution_count": 13,
   "metadata": {
    "_uuid": "aa2cdbd48a11a2c5518818c29ecc42fa85ccdf7e"
   },
   "outputs": [
    {
     "name": "stdout",
     "output_type": "stream",
     "text": [
      "df_stock.columns.values =  ['open', 'high', 'low', 'close']\n"
     ]
    },
    {
     "data": {
      "text/html": [
       "<div>\n",
       "<style scoped>\n",
       "    .dataframe tbody tr th:only-of-type {\n",
       "        vertical-align: middle;\n",
       "    }\n",
       "\n",
       "    .dataframe tbody tr th {\n",
       "        vertical-align: top;\n",
       "    }\n",
       "\n",
       "    .dataframe thead th {\n",
       "        text-align: right;\n",
       "    }\n",
       "</style>\n",
       "<table border=\"1\" class=\"dataframe\">\n",
       "  <thead>\n",
       "    <tr style=\"text-align: right;\">\n",
       "      <th></th>\n",
       "      <th>open</th>\n",
       "      <th>high</th>\n",
       "      <th>low</th>\n",
       "      <th>close</th>\n",
       "    </tr>\n",
       "  </thead>\n",
       "  <tbody>\n",
       "    <tr>\n",
       "      <th>count</th>\n",
       "      <td>5031.000000</td>\n",
       "      <td>5031.000000</td>\n",
       "      <td>5031.000000</td>\n",
       "      <td>5031.000000</td>\n",
       "    </tr>\n",
       "    <tr>\n",
       "      <th>mean</th>\n",
       "      <td>0.162714</td>\n",
       "      <td>0.163399</td>\n",
       "      <td>0.162899</td>\n",
       "      <td>0.162547</td>\n",
       "    </tr>\n",
       "    <tr>\n",
       "      <th>std</th>\n",
       "      <td>0.241176</td>\n",
       "      <td>0.241836</td>\n",
       "      <td>0.241457</td>\n",
       "      <td>0.240854</td>\n",
       "    </tr>\n",
       "    <tr>\n",
       "      <th>min</th>\n",
       "      <td>0.000000</td>\n",
       "      <td>0.000000</td>\n",
       "      <td>0.000000</td>\n",
       "      <td>0.000000</td>\n",
       "    </tr>\n",
       "    <tr>\n",
       "      <th>25%</th>\n",
       "      <td>0.016977</td>\n",
       "      <td>0.017193</td>\n",
       "      <td>0.017056</td>\n",
       "      <td>0.016956</td>\n",
       "    </tr>\n",
       "    <tr>\n",
       "      <th>50%</th>\n",
       "      <td>0.043903</td>\n",
       "      <td>0.043949</td>\n",
       "      <td>0.043617</td>\n",
       "      <td>0.043491</td>\n",
       "    </tr>\n",
       "    <tr>\n",
       "      <th>75%</th>\n",
       "      <td>0.171910</td>\n",
       "      <td>0.172779</td>\n",
       "      <td>0.171316</td>\n",
       "      <td>0.171937</td>\n",
       "    </tr>\n",
       "    <tr>\n",
       "      <th>max</th>\n",
       "      <td>1.000000</td>\n",
       "      <td>1.000000</td>\n",
       "      <td>1.000000</td>\n",
       "      <td>1.000000</td>\n",
       "    </tr>\n",
       "  </tbody>\n",
       "</table>\n",
       "</div>"
      ],
      "text/plain": [
       "              open         high          low        close\n",
       "count  5031.000000  5031.000000  5031.000000  5031.000000\n",
       "mean      0.162714     0.163399     0.162899     0.162547\n",
       "std       0.241176     0.241836     0.241457     0.240854\n",
       "min       0.000000     0.000000     0.000000     0.000000\n",
       "25%       0.016977     0.017193     0.017056     0.016956\n",
       "50%       0.043903     0.043949     0.043617     0.043491\n",
       "75%       0.171910     0.172779     0.171316     0.171937\n",
       "max       1.000000     1.000000     1.000000     1.000000"
      ]
     },
     "execution_count": 13,
     "metadata": {},
     "output_type": "execute_result"
    }
   ],
   "source": [
    "# choose one stock\n",
    "df_stock = rawData#df[df.symbol == ticker].copy()\n",
    "df_stock.drop(['timestamp'],1,inplace=True)\n",
    "df_stock.drop(['volume'],1,inplace=True)\n",
    "\n",
    "cols = list(df_stock.columns.values)\n",
    "print('df_stock.columns.values = ', cols)\n",
    "\n",
    "# normalize stock\n",
    "df_stock_norm = df_stock.copy()\n",
    "df_stock_norm = normalize_data(df_stock_norm)\n",
    "df_stock_norm.describe()"
   ]
  },
  {
   "cell_type": "code",
   "execution_count": 14,
   "metadata": {
    "_uuid": "aaea6be1c963a25176af2a388795a69a500c037a"
   },
   "outputs": [
    {
     "data": {
      "text/html": [
       "<div>\n",
       "<style scoped>\n",
       "    .dataframe tbody tr th:only-of-type {\n",
       "        vertical-align: middle;\n",
       "    }\n",
       "\n",
       "    .dataframe tbody tr th {\n",
       "        vertical-align: top;\n",
       "    }\n",
       "\n",
       "    .dataframe thead th {\n",
       "        text-align: right;\n",
       "    }\n",
       "</style>\n",
       "<table border=\"1\" class=\"dataframe\">\n",
       "  <thead>\n",
       "    <tr style=\"text-align: right;\">\n",
       "      <th></th>\n",
       "      <th>open</th>\n",
       "      <th>high</th>\n",
       "      <th>low</th>\n",
       "      <th>close</th>\n",
       "    </tr>\n",
       "  </thead>\n",
       "  <tbody>\n",
       "    <tr>\n",
       "      <th>0</th>\n",
       "      <td>0.028431</td>\n",
       "      <td>0.028810</td>\n",
       "      <td>0.028482</td>\n",
       "      <td>0.027922</td>\n",
       "    </tr>\n",
       "    <tr>\n",
       "      <th>1</th>\n",
       "      <td>0.027416</td>\n",
       "      <td>0.028291</td>\n",
       "      <td>0.027641</td>\n",
       "      <td>0.027676</td>\n",
       "    </tr>\n",
       "  </tbody>\n",
       "</table>\n",
       "</div>"
      ],
      "text/plain": [
       "       open      high       low     close\n",
       "0  0.028431  0.028810  0.028482  0.027922\n",
       "1  0.027416  0.028291  0.027641  0.027676"
      ]
     },
     "execution_count": 14,
     "metadata": {},
     "output_type": "execute_result"
    }
   ],
   "source": [
    "df_stock_norm.head(2)"
   ]
  },
  {
   "cell_type": "markdown",
   "metadata": {},
   "source": [
    "### Data is split into 3 parts, train-valid-test. The data is ordered with respect to time, the test set is used to give an idea of the fitting capabilities of the model."
   ]
  },
  {
   "cell_type": "code",
   "execution_count": 15,
   "metadata": {
    "_uuid": "003206886177bbfa08cb3a8080f92cba3bd56ae6"
   },
   "outputs": [],
   "source": [
    "valid_set_size_percentage = 1 \n",
    "test_set_size_percentage = 5 \n",
    "\n",
    "def load_data2(stock, seq_len, days_out):\n",
    "    data_raw = stock.as_matrix() # convert to numpy array\n",
    "    data = []\n",
    "    \n",
    "    # create all possible sequences of length seq_len\n",
    "    for index in range(len(data_raw) - seq_len): \n",
    "        data.append(data_raw[index: index + seq_len])\n",
    "    \n",
    "    data = np.array(data);\n",
    "    valid_set_size = int(np.round(valid_set_size_percentage/100*data.shape[0]));  \n",
    "    test_set_size = int(np.round(test_set_size_percentage/100*data.shape[0]));\n",
    "    train_set_size = data.shape[0] - (valid_set_size + test_set_size);\n",
    "    \n",
    "    x_train = data[:train_set_size,:-days_out,:]\n",
    "    y_train = data[:train_set_size,-days_out:,:]\n",
    "    \n",
    "    x_valid = data[train_set_size:train_set_size+valid_set_size,:-days_out,:]\n",
    "    y_valid = data[train_set_size:train_set_size+valid_set_size,-days_out:,:]\n",
    "    \n",
    "    x_test = data[train_set_size+valid_set_size:,:-days_out,:]\n",
    "    y_test = data[train_set_size+valid_set_size:,-days_out:,:]\n",
    "    final_batch = np.array([data[-1,-(seq_len - days_out):,:]])\n",
    "    return [x_train, y_train, x_valid, y_valid, x_test, y_test,final_batch]"
   ]
  },
  {
   "cell_type": "markdown",
   "metadata": {},
   "source": [
    "### The model is set up so that it takes 30 days of data and output 7 days into the future, I found this is different from whats out there in code for LSTM model's where I found most of them were only doing 1 day future forecasts."
   ]
  },
  {
   "cell_type": "code",
   "execution_count": 16,
   "metadata": {
    "_uuid": "914093a0876a8f57eaf16761f794bfcae089f318"
   },
   "outputs": [
    {
     "name": "stdout",
     "output_type": "stream",
     "text": [
      "x_train.shape =  (4701, 23, 4)\n",
      "y_train.shape =  (4701, 7, 4)\n",
      "x_valid.shape =  (50, 23, 4)\n",
      "y_valid.shape =  (50, 7, 4)\n",
      "x_test.shape =  (250, 23, 4)\n",
      "y_test.shape =  (250, 7, 4)\n",
      "f_batch.shape =  (1, 23, 4)\n"
     ]
    }
   ],
   "source": [
    "# create train, test data\n",
    "seq_len = 30 # choose sequence length\n",
    "dout = 7 # How many days ahead in the future are you predicting\n",
    "x_train, y_train, x_valid, y_valid, x_test, y_test,f_batch = load_data2(df_stock_norm, seq_len, days_out = dout)\n",
    "print('x_train.shape = ',x_train.shape)\n",
    "print('y_train.shape = ', y_train.shape)\n",
    "print('x_valid.shape = ',x_valid.shape)\n",
    "print('y_valid.shape = ', y_valid.shape)\n",
    "print('x_test.shape = ', x_test.shape)\n",
    "print('y_test.shape = ',y_test.shape)\n",
    "print('f_batch.shape = ',f_batch.shape)"
   ]
  },
  {
   "cell_type": "code",
   "execution_count": 17,
   "metadata": {
    "_uuid": "61ae78ac5c99202ddb341830b5e42fca09a59b18"
   },
   "outputs": [
    {
     "name": "stdout",
     "output_type": "stream",
     "text": [
      "x_train.shape =  (4701, 23)\n",
      "y_train.shape =  (4701, 7)\n",
      "x_valid.shape =  (50, 23)\n",
      "y_valid.shape =  (50, 7)\n",
      "x_test.shape =  (250, 23)\n",
      "y_test.shape =  (250, 7)\n",
      "f_batch.shape =  (1, 23)\n"
     ]
    }
   ],
   "source": [
    "# Choose only open prices\n",
    "x_train, y_train, x_valid, y_valid, x_test, y_test = x_train[:,:,0], y_train[:,:,0], x_valid[:,:,0], y_valid[:,:,0], x_test[:,:,0], y_test[:,:,0]\n",
    "f_batch = f_batch[:,:,0]\n",
    "print('x_train.shape = ',x_train.shape)\n",
    "print('y_train.shape = ', y_train.shape)\n",
    "print('x_valid.shape = ',x_valid.shape)\n",
    "print('y_valid.shape = ', y_valid.shape)\n",
    "print('x_test.shape = ', x_test.shape)\n",
    "print('y_test.shape = ',y_test.shape)\n",
    "print('f_batch.shape = ',f_batch.shape)"
   ]
  },
  {
   "cell_type": "code",
   "execution_count": 28,
   "metadata": {
    "_uuid": "8c6df7828696fc3dae659a53bd9d85af7d47f3e6"
   },
   "outputs": [],
   "source": [
    "#Simple LSTM\n",
    "model = Sequential()\n",
    "model.add(LSTM(256,input_shape=(seq_len-dout,1)))\n",
    "model.add(Dense(16))\n",
    "model.add(Dense(16))\n",
    "model.add(Dense(dout))\n",
    "model.compile(optimizer='adam',loss='mse')"
   ]
  },
  {
   "cell_type": "code",
   "execution_count": 29,
   "metadata": {
    "_uuid": "2646dbe918275aea41b204f6a04548b4d4e88f40"
   },
   "outputs": [],
   "source": [
    "#Reshape data for (Sample,Timestep,Features) \n",
    "x_train = x_train.reshape((x_train.shape[0],x_train.shape[1],1))\n",
    "x_valid = x_valid.reshape((x_valid.shape[0],x_valid.shape[1],1))\n",
    "x_test = x_test.reshape((x_test.shape[0],x_test.shape[1],1))"
   ]
  },
  {
   "cell_type": "code",
   "execution_count": 30,
   "metadata": {
    "_uuid": "01a3bdbbfff8703230808cb097548850e01eabdd"
   },
   "outputs": [],
   "source": [
    "#x_train[0]"
   ]
  },
  {
   "cell_type": "markdown",
   "metadata": {},
   "source": [
    "### 1~3 Epochs is usually enough, look at visualizations below to understand the fit."
   ]
  },
  {
   "cell_type": "code",
   "execution_count": 31,
   "metadata": {
    "_uuid": "b5e91ae0b31d61ba47f32e4fbee8135772191040"
   },
   "outputs": [
    {
     "name": "stdout",
     "output_type": "stream",
     "text": [
      "Train on 4701 samples, validate on 50 samples\n",
      "Epoch 1/1\n",
      "4701/4701 [==============================] - 13s 3ms/step - loss: 7.7126e-04 - val_loss: 0.0043\n"
     ]
    }
   ],
   "source": [
    "#Fit model with history to check for overfitting\n",
    "history = model.fit(x_train,y_train,epochs=1,validation_data=(x_valid,y_valid),shuffle=False)"
   ]
  },
  {
   "cell_type": "code",
   "execution_count": 32,
   "metadata": {},
   "outputs": [],
   "source": [
    "from sklearn.metrics import mean_squared_error as mse"
   ]
  },
  {
   "cell_type": "code",
   "execution_count": 33,
   "metadata": {},
   "outputs": [],
   "source": [
    "def d_Accuracy(U,L,true):\n",
    "    true = np.ndarray.flatten(true)\n",
    "    A = np.logical_and(U > true, L < true)\n",
    "    return np.sum(A)/float(len(true))"
   ]
  },
  {
   "cell_type": "code",
   "execution_count": 34,
   "metadata": {},
   "outputs": [],
   "source": [
    "#diag = model.predict(x_train)\n",
    "#se = mse(np.ndarray.flatten(min_max_scaler.inverse_transform(diag)),np.ndarray.flatten(min_max_scaler.inverse_transform(y_train)))"
   ]
  },
  {
   "cell_type": "markdown",
   "metadata": {},
   "source": [
    "### The code below is for debugging and engineering the LSTM. It selects N = 0 th index of test set. So, the 0th index corresponds to a 30 day sequence which the model uses to make 7 consecutive predictions. The red line is the true occurance and the blue is the predicted. The accuracy used width D, and reports how many values fell inside the interval X +/- D. Choose D according to the risk/variance you are willing to accept when forecasting."
   ]
  },
  {
   "cell_type": "code",
   "execution_count": 35,
   "metadata": {},
   "outputs": [
    {
     "name": "stdout",
     "output_type": "stream",
     "text": [
      "0.0\n"
     ]
    },
    {
     "data": {
      "text/plain": [
       "[<matplotlib.lines.Line2D at 0x1c46623128>]"
      ]
     },
     "execution_count": 35,
     "metadata": {},
     "output_type": "execute_result"
    },
    {
     "data": {
      "image/png": "[encoded data removed]",
      "text/plain": [
       "<Figure size 1440x360 with 1 Axes>"
      ]
     },
     "metadata": {
      "needs_background": "light"
     },
     "output_type": "display_data"
    }
   ],
   "source": [
    "N = 0\n",
    "D = 3\n",
    "f,ax = plt.subplots(figsize = (20,5))\n",
    "out = model.predict(x_test[N].reshape(1,seq_len-dout,1),).reshape(-1,1)\n",
    "out = min_max_scaler.inverse_transform(out)\n",
    "#U = np.ndarray.flatten(out + 2 * np.sqrt(se))\n",
    "#L = np.ndarray.flatten(out - 2 * np.sqrt(se))\n",
    "U = np.ndarray.flatten(out + D)\n",
    "L = np.ndarray.flatten(out - D)\n",
    "true = min_max_scaler.inverse_transform(y_test[N].reshape(-1,1))\n",
    "print (d_Accuracy(U,L,true))\n",
    "plt.fill_between(range(len(np.ndarray.flatten(out))),L,U, alpha = 0.2)\n",
    "plt.plot(out,marker= 'o', linestyle='dashed')\n",
    "plt.plot(true,marker= 'o', c = 'red')"
   ]
  },
  {
   "cell_type": "markdown",
   "metadata": {},
   "source": [
    "### This is the complete predictions on the test set, refer to the code and try to understand how it's being predicted. High level overview is we are plotting the actual occurance with the LSTM's 7 Day predictions. So I believe this shows a fair representation of the LSTM's ability to capture trends, also the predictions are 7 day ahead so you get a somewhat idea of the strength and reliablility of prediction 1-7. This is also an excellent visualization to diagnose the model."
   ]
  },
  {
   "cell_type": "code",
   "execution_count": 36,
   "metadata": {},
   "outputs": [
    {
     "data": {
      "image/png": "[encoded data removed]",
      "text/plain": [
       "<Figure size 1440x360 with 1 Axes>"
      ]
     },
     "metadata": {
      "needs_background": "light"
     },
     "output_type": "display_data"
    }
   ],
   "source": [
    "f,ax = plt.subplots(figsize = (20,5))\n",
    "out_full = model.predict(x_test)\n",
    "single = []\n",
    "for i,j in enumerate(out_full):\n",
    "    if i > 0:\n",
    "        single.append(j[-1])       \n",
    "single_ = []\n",
    "for i,j in enumerate(x_test):\n",
    "    if i > 0:\n",
    "        single_.append(j[-1])\n",
    "single = np.array(single)\n",
    "single_ = np.array(single_)\n",
    "single = min_max_scaler.inverse_transform(single.reshape(-1,1))\n",
    "single_ = min_max_scaler.inverse_transform(single_.reshape(-1,1))\n",
    "plt.plot(single, linestyle='dashed')\n",
    "plt.plot(single_)\n",
    "plt.show()"
   ]
  },
  {
   "cell_type": "markdown",
   "metadata": {},
   "source": [
    "### This is a unseen forcast into the future, where the last known point is the latest stock record in our data base. The predicted values don't have actual values to compare against. As caution please don't make decisions solely based on the data analysis presented in this notebook, it is a guide so someone can get inspired to make this more robust. Cheers!"
   ]
  },
  {
   "cell_type": "code",
   "execution_count": 37,
   "metadata": {},
   "outputs": [
    {
     "data": {
      "image/png": "[encoded data removed]",
      "text/plain": [
       "<Figure size 1440x360 with 1 Axes>"
      ]
     },
     "metadata": {
      "needs_background": "light"
     },
     "output_type": "display_data"
    }
   ],
   "source": [
    "f,ax = plt.subplots(figsize = (20,5))\n",
    "out_of_bound_  = model.predict(f_batch.reshape(1,seq_len-dout,1)).reshape(-1,1)\n",
    "out_of_bound_ = min_max_scaler.inverse_transform(out_of_bound_)\n",
    "plt.plot(out_of_bound_,marker= 'o', linestyle='dashed')\n",
    "plt.show()"
   ]
  },
  {
   "cell_type": "code",
   "execution_count": null,
   "metadata": {},
   "outputs": [],
   "source": []
  },
  {
   "cell_type": "code",
   "execution_count": null,
   "metadata": {},
   "outputs": [],
   "source": []
  }
 ],
 "metadata": {
  "kernelspec": {
   "display_name": "Python 3",
   "language": "python",
   "name": "python3"
  },
  "language_info": {
   "codemirror_mode": {
    "name": "ipython",
    "version": 3
   },
   "file_extension": ".py",
   "mimetype": "text/x-python",
   "name": "python",
   "nbconvert_exporter": "python",
   "pygments_lexer": "ipython3",
   "version": "3.6.9"
  }
 },
 "nbformat": 4,
 "nbformat_minor": 1
}
